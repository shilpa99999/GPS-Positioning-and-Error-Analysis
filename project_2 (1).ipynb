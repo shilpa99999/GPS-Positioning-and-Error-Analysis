{
  "cells": [
    {
      "cell_type": "markdown",
      "source": [
        "receiver position (x, y, z)\n",
        "and time correction d for simultaneous satellite positions (Ai\n",
        ", Bi\n",
        ", Ci) are [-4.17727096e+01 -1.67891941e+01  6.37005956e+03] and -3.20156583e-03 respectively"
      ],
      "metadata": {
        "id": "F4GHWFNlZrQg"
      },
      "id": "F4GHWFNlZrQg"
    },
    {
      "cell_type": "code",
      "source": [
        "# problem 1\n",
        "\n",
        "import numpy as np\n",
        "\n",
        "\n",
        "def receiver_position(x, y, z, d):\n",
        "    # Sort the initial position\n",
        "    u = np.array([x, y, z, d])\n",
        "\n",
        "    # Set number of iterations\n",
        "    n = 10\n",
        "\n",
        "    # Initial positions and time of satellites that are given\n",
        "    A1, B1, C1 = 15600, 7540, 20140\n",
        "    A2, B2, C2 = 18760, 2750, 18610\n",
        "    A3, B3, C3 = 17610, 14630, 13480\n",
        "    A4, B4, C4 = 19170, 610, 18390\n",
        "\n",
        "    t = np.array([0.07074, 0.07220, 0.07690, 0.07242])\n",
        "\n",
        "    # Speed of light\n",
        "    c = 299792.458\n",
        "\n",
        "    x0, y0, z0, d0 = x, y, z, d\n",
        "\n",
        "    for i in range(n):\n",
        "        # Find F\n",
        "        F = np.array([(x0 - A1)**2 + (y0 - B1)**2 + (z0 - C1)**2 - (c*(t[0] - d0))**2,\n",
        "                      (x0 - A2)**2 + (y0 - B2)**2 + (z0 - C2)**2 - (c*(t[1] - d0))**2,\n",
        "                      (x0 - A3)**2 + (y0 - B3)**2 + (z0 - C3)**2 - (c*(t[2] - d0))**2,\n",
        "                      (x0 - A4)**2 + (y0 - B4)**2 + (z0 - C4)**2 - (c*(t[3] - d0))**2])\n",
        "\n",
        "        # Find dF\n",
        "        dF = np.array([[2*(x0 - A1), 2*(y0 - B1), 2*(z0 - C1), 2*(c**2*(t[0] - d0))],\n",
        "                       [2*(x0 - A2), 2*(y0 - B2), 2*(z0 - C2), 2*(c**2*(t[1] - d0))],\n",
        "                       [2*(x0 - A3), 2*(y0 - B3), 2*(z0 - C3), 2*(c**2*(t[2] - d0))],\n",
        "                       [2*(x0 - A4), 2*(y0 - B4), 2*(z0 - C4), 2*(c**2*(t[3] - d0))]])\n",
        "\n",
        "        # Apply Newton Method to find next position\n",
        "\n",
        "\n",
        "        v = np.linalg.solve(dF, -F)\n",
        "\n",
        "        u += v\n",
        "\n",
        "        x0, y0, z0, d0 = u[0], u[1], u[2], u[3]\n",
        "\n",
        "    return u\n",
        "\n",
        "p = receiver_position(0.0,0.0,6370.0,0.0)\n",
        "print(p)\n"
      ],
      "metadata": {
        "colab": {
          "base_uri": "https://localhost:8080/"
        },
        "id": "F23fISYkmhIO",
        "outputId": "964f0be3-f3fc-409e-97dc-93b4d9c9f896"
      },
      "id": "F23fISYkmhIO",
      "execution_count": 1,
      "outputs": [
        {
          "output_type": "stream",
          "name": "stdout",
          "text": [
            "[-4.17727096e+01 -1.67891941e+01  6.37005956e+03 -3.20156583e-03]\n"
          ]
        }
      ]
    },
    {
      "cell_type": "markdown",
      "source": [],
      "metadata": {
        "id": "OIKA7JmZZqVU"
      },
      "id": "OIKA7JmZZqVU"
    },
    {
      "cell_type": "code",
      "execution_count": 21,
      "id": "d3cf3f3e",
      "metadata": {
        "colab": {
          "base_uri": "https://localhost:8080/"
        },
        "id": "d3cf3f3e",
        "outputId": "35af9e8a-3d1c-4f91-eee8-02552895e216"
      },
      "outputs": [
        {
          "output_type": "stream",
          "name": "stdout",
          "text": [
            "emf = 2124802.9929628475\n",
            "position error found = 6369.999120260886\n",
            "emf = 2124803.299581752\n",
            "position error found = 6370.000039481238\n",
            "emf = 2124803.383582912\n",
            "position error found = 6370.000291310379\n",
            "emf = 2124803.4501124118\n",
            "position error found = 6370.000490760803\n",
            "emf = 2124803.3155750195\n",
            "position error found = 6370.000087427847\n",
            "theConditionNumber = 2124802.9929628475\n"
          ]
        }
      ],
      "source": [
        "# Problem 2\n",
        "\n",
        "import numpy as np\n",
        "\n",
        "def getSphericalCoordinates(phi, theta, ρ=26570):\n",
        "    x = ρ * np.cos(phi) * np.cos(theta)\n",
        "    y = ρ * ρ * np.cos(phi) * np.sin(theta)\n",
        "    z = ρ * np.sin(phi)\n",
        "    return np.array([x, y, z])\n",
        "\n",
        "def calculateRange(satellitePosition):\n",
        "    x_diff = satellitePosition[0]\n",
        "    y_diff = satellitePosition[1]\n",
        "    z_diff = satellitePosition[2] - 6370\n",
        "    return np.sqrt(x_diff**2 + y_diff**2 + z_diff**2)\n",
        "\n",
        "def quadratic_formula(travel_times, satellitePositions, param, x, y, z):\n",
        "    A = np.zeros((len(satellitePositions), 4))\n",
        "    for i, satPos in enumerate(satellitePositions):\n",
        "        A[i, 0] = 2 * (satPos[0] - x)\n",
        "        A[i, 1] = 2 * (satPos[1] - y)\n",
        "        A[i, 2] = 2 * (satPos[2] - z)\n",
        "        A[i, 3] = 2 * 299792.458 * (0.0001 - travel_times[i])\n",
        "\n",
        "    b = np.zeros(len(satellitePositions))\n",
        "    for i, satPos in enumerate(satellitePositions):\n",
        "        b[i] = (satPos[0] - x)**2 + (satPos[1] - y)**2 + (satPos[2] - z)**2 - (299792.458 * (0.0001 - travel_times[i]))**2\n",
        "\n",
        "    x_solution = np.linalg.lstsq(A, b, rcond=None)[0]\n",
        "\n",
        "    return x_solution[param - 1]\n",
        "\n",
        "def generateOnes(numOfSatellites):\n",
        "    return np.ones((2**numOfSatellites, numOfSatellites))\n",
        "\n",
        "def error_magnification(numOfSatellites, theta, phi,infty_norm_t):\n",
        "    x = 0\n",
        "    y = 0\n",
        "    z = 6370\n",
        "\n",
        "    satellitePositions = np.zeros((numOfSatellites, 3))\n",
        "\n",
        "    for i in range(numOfSatellites):\n",
        "        mytheta = theta[i]\n",
        "        myphi = phi[i]\n",
        "        satellitePositions[i, :] = getSphericalCoordinates(myphi, mytheta)\n",
        "\n",
        "    Ri_vector = np.zeros(numOfSatellites)\n",
        "    travel_times = np.zeros(numOfSatellites)\n",
        "\n",
        "    for i in range(numOfSatellites):\n",
        "        Ri_vector[i] = calculateRange(satellitePositions[i])\n",
        "        travel_times[i] = 0.0001 + Ri_vector[i] / 299792.458\n",
        "\n",
        "    travel_times_change = generateOnes(numOfSatellites) * 0.0000001\n",
        "\n",
        "    travel_times_row_vector = travel_times\n",
        "\n",
        "    conditionNumber = 1\n",
        "\n",
        "    for row in range(2**numOfSatellites):\n",
        "        travel_times_my_row = (travel_times_row_vector + travel_times_change[row, :])\n",
        "        x_bar = quadratic_formula(travel_times_my_row, satellitePositions, 1, x, y, z)\n",
        "        y_bar = quadratic_formula(travel_times_my_row, satellitePositions, 2, x, y, z)\n",
        "        z_bar = quadratic_formula(travel_times_my_row, satellitePositions, 3, x, y, z)\n",
        "        d_bar = quadratic_formula(travel_times_my_row, satellitePositions, 4, x, y, z)\n",
        "\n",
        "        delta_x = abs(x - x_bar)\n",
        "        delta_y = abs(y - y_bar)\n",
        "        delta_z = abs(z - z_bar)\n",
        "\n",
        "        infty_norm_xyz = max(delta_x, delta_y, delta_z)\n",
        "\n",
        "        emf = infty_norm_xyz / (infty_norm_t * 299792.458)\n",
        "\n",
        "        if row == 0:\n",
        "            conditionNumber = emf\n",
        "        else:\n",
        "            if emf > conditionNumber:\n",
        "                conditionNumber = emf\n",
        "    print(\"emf =\",emf )\n",
        "    print(\"position error found =\",infty_norm_xyz)\n",
        "    return conditionNumber\n",
        "\n",
        "# Example usage\n",
        "\n",
        "numOfSatellites = 4\n",
        "theta = [0,(np.pi/3), ((np.pi)*2)/3, 2* (np.pi)]\n",
        "phi = [0,(np.pi)/6, (np.pi)/3, (np.pi)/2]\n",
        "\n",
        "conditionNumber = error_magnification(numOfSatellites, theta, phi,0.00000001)\n",
        "theConditionNumber = conditionNumber\n",
        "travel_times_change = generateOnes(numOfSatellites) * 0.00000001\n",
        "theGeneratingTrow = travel_times_change[np.argmax([error_magnification(numOfSatellites, theta, phi + (np.arange(numOfSatellites) - 0.5) * 0.00000001,0.00000001) for phi in phi])]\n",
        "positionMinusEMF = abs(theConditionNumber - (theConditionNumber * 299792.458 * theGeneratingTrow).max() / 0.00000001)\n",
        "print(\"theConditionNumber =\", theConditionNumber)\n",
        "\n"
      ]
    },
    {
      "cell_type": "code",
      "execution_count": 23,
      "id": "aa630b2f",
      "metadata": {
        "colab": {
          "base_uri": "https://localhost:8080/"
        },
        "id": "aa630b2f",
        "outputId": "58c5dafe-b194-4d6d-9609-82165449828d"
      },
      "outputs": [
        {
          "output_type": "stream",
          "name": "stdout",
          "text": [
            "with error\n",
            "emf = 2125736.9315818413\n",
            "position error found = 6372.79899780298\n",
            "emf = 2888266.419341038\n",
            "position error found = 8658.804892131084\n",
            "emf = 2048959.8173419288\n",
            "position error found = 6142.626999841678\n",
            "emf = 2195229.491320265\n",
            "position error found = 6581.132450769919\n",
            "emf = 2046357.126836302\n",
            "position error found = 6134.824330000727\n",
            "theConditionNumber = 2125736.9315818413\n",
            "\n",
            "without error\n",
            "emf = inf\n",
            "position error found = 6372.79899780298\n",
            "emf = inf\n",
            "position error found = 4220.211099656892\n",
            "emf = inf\n",
            "position error found = 6729.058026236874\n",
            "emf = inf\n",
            "position error found = 6604.771875126114\n",
            "emf = inf\n",
            "position error found = 6479.850196066513\n",
            "theConditionNumber = inf\n"
          ]
        },
        {
          "output_type": "stream",
          "name": "stderr",
          "text": [
            "<ipython-input-21-86b6f6cce584>:74: RuntimeWarning: divide by zero encountered in double_scalars\n",
            "  emf = infty_norm_xyz / (infty_norm_t * 299792.458)\n",
            "<ipython-input-23-a20bbf2c7633>:29: RuntimeWarning: invalid value encountered in multiply\n",
            "  positionMinusEMF = abs(theConditionNumber - (theConditionNumber * 299792.458 * theGeneratingTrow).max() / 0)\n"
          ]
        }
      ],
      "source": [
        "# Problem 3\n",
        "\n",
        "import numpy as np\n",
        "\n",
        "\n",
        "# Example usage\n",
        "numOfSatellites = 4\n",
        "theta = [0.1,0.105, 0.110, 0.115]\n",
        "phi = [0.25,0.2625, 0.275, 0.2875]\n",
        "\n",
        "# with error\n",
        "print(\"with error\")\n",
        "conditionNumber = error_magnification(numOfSatellites, theta, phi,0.00000001)\n",
        "theConditionNumber = conditionNumber\n",
        "\n",
        "travel_times_change = generateOnes(numOfSatellites) * 0.00000001\n",
        "theGeneratingTrow = travel_times_change[np.argmax([error_magnification(numOfSatellites, theta, phi + (np.arange(numOfSatellites) - 0.5) * 0.00000001,0.00000001) for phi in phi])]\n",
        "positionMinusEMF = abs(theConditionNumber - (theConditionNumber * 299792.458 * theGeneratingTrow).max() / 0.00000001)\n",
        "print(\"theConditionNumber =\", theConditionNumber)\n",
        "\n",
        "\n",
        "print(\"\\nwithout error\")\n",
        "\n",
        "conditionNumber = error_magnification(numOfSatellites, theta, phi,0)\n",
        "theConditionNumber = conditionNumber\n",
        "\n",
        "travel_times_change = generateOnes(numOfSatellites) * 0\n",
        "theGeneratingTrow = travel_times_change[np.argmax([error_magnification(numOfSatellites, theta, phi + (np.arange(numOfSatellites) - 0.5) * 0,0) for phi in phi])]\n",
        "positionMinusEMF = abs(theConditionNumber - (theConditionNumber * 299792.458 * theGeneratingTrow).max() / 0)\n",
        "print(\"theConditionNumber =\", theConditionNumber)\n"
      ]
    },
    {
      "cell_type": "code",
      "source": [
        "\n"
      ],
      "metadata": {
        "id": "b_mAXNvTW7pW"
      },
      "id": "b_mAXNvTW7pW",
      "execution_count": null,
      "outputs": []
    }
  ],
  "metadata": {
    "kernelspec": {
      "display_name": "Python 3 (ipykernel)",
      "language": "python",
      "name": "python3"
    },
    "language_info": {
      "codemirror_mode": {
        "name": "ipython",
        "version": 3
      },
      "file_extension": ".py",
      "mimetype": "text/x-python",
      "name": "python",
      "nbconvert_exporter": "python",
      "pygments_lexer": "ipython3",
      "version": "3.11.4"
    },
    "colab": {
      "provenance": []
    }
  },
  "nbformat": 4,
  "nbformat_minor": 5
}